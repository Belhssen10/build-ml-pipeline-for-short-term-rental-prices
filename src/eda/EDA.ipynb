{
 "cells": [
  {
   "cell_type": "code",
   "execution_count": 2,
   "id": "2ced1772-3510-445c-9e1f-682b981d5244",
   "metadata": {},
   "outputs": [
    {
     "name": "stdout",
     "output_type": "stream",
     "text": [
      "Collecting ydata_profiling\n",
      "  Using cached ydata_profiling-4.6.4-py2.py3-none-any.whl.metadata (20 kB)\n",
      "Collecting scipy<1.12,>=1.4.1 (from ydata_profiling)\n",
      "  Using cached scipy-1.11.4-cp310-cp310-manylinux_2_17_x86_64.manylinux2014_x86_64.whl.metadata (60 kB)\n",
      "Requirement already satisfied: pandas!=1.4.0,<3,>1.1 in /home/belhassen/miniconda3/envs/mlflow-efedaa08f400336cf501d86a97e4f66d68b3d0b7/lib/python3.10/site-packages (from ydata_profiling) (2.1.3)\n",
      "Requirement already satisfied: matplotlib<3.9,>=3.2 in /home/belhassen/miniconda3/envs/mlflow-efedaa08f400336cf501d86a97e4f66d68b3d0b7/lib/python3.10/site-packages (from ydata_profiling) (3.8.2)\n",
      "Requirement already satisfied: pydantic>=2 in /home/belhassen/miniconda3/envs/mlflow-efedaa08f400336cf501d86a97e4f66d68b3d0b7/lib/python3.10/site-packages (from ydata_profiling) (2.6.1)\n",
      "Requirement already satisfied: PyYAML<6.1,>=5.0.0 in /home/belhassen/miniconda3/envs/mlflow-efedaa08f400336cf501d86a97e4f66d68b3d0b7/lib/python3.10/site-packages (from ydata_profiling) (6.0.1)\n",
      "Requirement already satisfied: jinja2<3.2,>=2.11.1 in /home/belhassen/miniconda3/envs/mlflow-efedaa08f400336cf501d86a97e4f66d68b3d0b7/lib/python3.10/site-packages (from ydata_profiling) (3.1.3)\n",
      "Collecting visions==0.7.5 (from visions[type_image_path]==0.7.5->ydata_profiling)\n",
      "  Using cached visions-0.7.5-py3-none-any.whl (102 kB)\n",
      "Collecting numpy<1.26,>=1.16.0 (from ydata_profiling)\n",
      "  Using cached numpy-1.25.2-cp310-cp310-manylinux_2_17_x86_64.manylinux2014_x86_64.whl.metadata (5.6 kB)\n",
      "Requirement already satisfied: htmlmin==0.1.12 in /home/belhassen/miniconda3/envs/mlflow-efedaa08f400336cf501d86a97e4f66d68b3d0b7/lib/python3.10/site-packages (from ydata_profiling) (0.1.12)\n",
      "Requirement already satisfied: phik<0.13,>=0.11.1 in /home/belhassen/miniconda3/envs/mlflow-efedaa08f400336cf501d86a97e4f66d68b3d0b7/lib/python3.10/site-packages (from ydata_profiling) (0.12.3)\n",
      "Requirement already satisfied: requests<3,>=2.24.0 in /home/belhassen/miniconda3/envs/mlflow-efedaa08f400336cf501d86a97e4f66d68b3d0b7/lib/python3.10/site-packages (from ydata_profiling) (2.31.0)\n",
      "Requirement already satisfied: tqdm<5,>=4.48.2 in /home/belhassen/miniconda3/envs/mlflow-efedaa08f400336cf501d86a97e4f66d68b3d0b7/lib/python3.10/site-packages (from ydata_profiling) (4.66.1)\n",
      "Collecting seaborn<0.13,>=0.10.1 (from ydata_profiling)\n",
      "  Using cached seaborn-0.12.2-py3-none-any.whl (293 kB)\n",
      "Requirement already satisfied: multimethod<2,>=1.4 in /home/belhassen/miniconda3/envs/mlflow-efedaa08f400336cf501d86a97e4f66d68b3d0b7/lib/python3.10/site-packages (from ydata_profiling) (1.4)\n",
      "Requirement already satisfied: statsmodels<1,>=0.13.2 in /home/belhassen/miniconda3/envs/mlflow-efedaa08f400336cf501d86a97e4f66d68b3d0b7/lib/python3.10/site-packages (from ydata_profiling) (0.14.1)\n",
      "Collecting typeguard<5,>=4.1.2 (from ydata_profiling)\n",
      "  Using cached typeguard-4.1.5-py3-none-any.whl.metadata (3.7 kB)\n",
      "Requirement already satisfied: imagehash==4.3.1 in /home/belhassen/miniconda3/envs/mlflow-efedaa08f400336cf501d86a97e4f66d68b3d0b7/lib/python3.10/site-packages (from ydata_profiling) (4.3.1)\n",
      "Collecting wordcloud>=1.9.1 (from ydata_profiling)\n",
      "  Using cached wordcloud-1.9.3-cp310-cp310-manylinux_2_17_x86_64.manylinux2014_x86_64.whl.metadata (3.4 kB)\n",
      "Collecting dacite>=1.8 (from ydata_profiling)\n",
      "  Using cached dacite-1.8.1-py3-none-any.whl.metadata (15 kB)\n",
      "Collecting numba<0.59.0,>=0.56.0 (from ydata_profiling)\n",
      "  Using cached numba-0.58.1-cp310-cp310-manylinux2014_x86_64.manylinux_2_17_x86_64.whl.metadata (2.7 kB)\n",
      "Requirement already satisfied: pillow in /home/belhassen/miniconda3/envs/mlflow-efedaa08f400336cf501d86a97e4f66d68b3d0b7/lib/python3.10/site-packages (from imagehash==4.3.1->ydata_profiling) (10.2.0)\n",
      "Requirement already satisfied: PyWavelets in /home/belhassen/miniconda3/envs/mlflow-efedaa08f400336cf501d86a97e4f66d68b3d0b7/lib/python3.10/site-packages (from imagehash==4.3.1->ydata_profiling) (1.4.1)\n",
      "Requirement already satisfied: attrs>=19.3.0 in /home/belhassen/miniconda3/envs/mlflow-efedaa08f400336cf501d86a97e4f66d68b3d0b7/lib/python3.10/site-packages (from visions==0.7.5->visions[type_image_path]==0.7.5->ydata_profiling) (23.2.0)\n",
      "Requirement already satisfied: networkx>=2.4 in /home/belhassen/miniconda3/envs/mlflow-efedaa08f400336cf501d86a97e4f66d68b3d0b7/lib/python3.10/site-packages (from visions==0.7.5->visions[type_image_path]==0.7.5->ydata_profiling) (3.2.1)\n",
      "Requirement already satisfied: tangled-up-in-unicode>=0.0.4 in /home/belhassen/miniconda3/envs/mlflow-efedaa08f400336cf501d86a97e4f66d68b3d0b7/lib/python3.10/site-packages (from visions==0.7.5->visions[type_image_path]==0.7.5->ydata_profiling) (0.2.0)\n",
      "\u001b[33mWARNING: visions 0.7.5 does not provide the extra 'type-image-path'\u001b[0m\u001b[33m\n",
      "\u001b[0mRequirement already satisfied: MarkupSafe>=2.0 in /home/belhassen/miniconda3/envs/mlflow-efedaa08f400336cf501d86a97e4f66d68b3d0b7/lib/python3.10/site-packages (from jinja2<3.2,>=2.11.1->ydata_profiling) (2.1.5)\n",
      "Requirement already satisfied: contourpy>=1.0.1 in /home/belhassen/miniconda3/envs/mlflow-efedaa08f400336cf501d86a97e4f66d68b3d0b7/lib/python3.10/site-packages (from matplotlib<3.9,>=3.2->ydata_profiling) (1.2.0)\n",
      "Requirement already satisfied: cycler>=0.10 in /home/belhassen/miniconda3/envs/mlflow-efedaa08f400336cf501d86a97e4f66d68b3d0b7/lib/python3.10/site-packages (from matplotlib<3.9,>=3.2->ydata_profiling) (0.12.1)\n",
      "Requirement already satisfied: fonttools>=4.22.0 in /home/belhassen/miniconda3/envs/mlflow-efedaa08f400336cf501d86a97e4f66d68b3d0b7/lib/python3.10/site-packages (from matplotlib<3.9,>=3.2->ydata_profiling) (4.47.2)\n",
      "Requirement already satisfied: kiwisolver>=1.3.1 in /home/belhassen/miniconda3/envs/mlflow-efedaa08f400336cf501d86a97e4f66d68b3d0b7/lib/python3.10/site-packages (from matplotlib<3.9,>=3.2->ydata_profiling) (1.4.5)\n",
      "Requirement already satisfied: packaging>=20.0 in /home/belhassen/miniconda3/envs/mlflow-efedaa08f400336cf501d86a97e4f66d68b3d0b7/lib/python3.10/site-packages (from matplotlib<3.9,>=3.2->ydata_profiling) (23.2)\n",
      "Requirement already satisfied: pyparsing>=2.3.1 in /home/belhassen/miniconda3/envs/mlflow-efedaa08f400336cf501d86a97e4f66d68b3d0b7/lib/python3.10/site-packages (from matplotlib<3.9,>=3.2->ydata_profiling) (3.1.1)\n",
      "Requirement already satisfied: python-dateutil>=2.7 in /home/belhassen/miniconda3/envs/mlflow-efedaa08f400336cf501d86a97e4f66d68b3d0b7/lib/python3.10/site-packages (from matplotlib<3.9,>=3.2->ydata_profiling) (2.8.2)\n",
      "Collecting llvmlite<0.42,>=0.41.0dev0 (from numba<0.59.0,>=0.56.0->ydata_profiling)\n",
      "  Using cached llvmlite-0.41.1-cp310-cp310-manylinux_2_17_x86_64.manylinux2014_x86_64.whl.metadata (4.8 kB)\n",
      "Requirement already satisfied: pytz>=2020.1 in /home/belhassen/miniconda3/envs/mlflow-efedaa08f400336cf501d86a97e4f66d68b3d0b7/lib/python3.10/site-packages (from pandas!=1.4.0,<3,>1.1->ydata_profiling) (2023.4)\n",
      "Requirement already satisfied: tzdata>=2022.1 in /home/belhassen/miniconda3/envs/mlflow-efedaa08f400336cf501d86a97e4f66d68b3d0b7/lib/python3.10/site-packages (from pandas!=1.4.0,<3,>1.1->ydata_profiling) (2023.4)\n",
      "Requirement already satisfied: joblib>=0.14.1 in /home/belhassen/miniconda3/envs/mlflow-efedaa08f400336cf501d86a97e4f66d68b3d0b7/lib/python3.10/site-packages (from phik<0.13,>=0.11.1->ydata_profiling) (1.3.2)\n",
      "Requirement already satisfied: annotated-types>=0.4.0 in /home/belhassen/miniconda3/envs/mlflow-efedaa08f400336cf501d86a97e4f66d68b3d0b7/lib/python3.10/site-packages (from pydantic>=2->ydata_profiling) (0.6.0)\n",
      "Requirement already satisfied: pydantic-core==2.16.2 in /home/belhassen/miniconda3/envs/mlflow-efedaa08f400336cf501d86a97e4f66d68b3d0b7/lib/python3.10/site-packages (from pydantic>=2->ydata_profiling) (2.16.2)\n",
      "Requirement already satisfied: typing-extensions>=4.6.1 in /home/belhassen/miniconda3/envs/mlflow-efedaa08f400336cf501d86a97e4f66d68b3d0b7/lib/python3.10/site-packages (from pydantic>=2->ydata_profiling) (4.9.0)\n",
      "Requirement already satisfied: charset-normalizer<4,>=2 in /home/belhassen/miniconda3/envs/mlflow-efedaa08f400336cf501d86a97e4f66d68b3d0b7/lib/python3.10/site-packages (from requests<3,>=2.24.0->ydata_profiling) (3.3.2)\n",
      "Requirement already satisfied: idna<4,>=2.5 in /home/belhassen/miniconda3/envs/mlflow-efedaa08f400336cf501d86a97e4f66d68b3d0b7/lib/python3.10/site-packages (from requests<3,>=2.24.0->ydata_profiling) (3.6)\n",
      "Requirement already satisfied: urllib3<3,>=1.21.1 in /home/belhassen/miniconda3/envs/mlflow-efedaa08f400336cf501d86a97e4f66d68b3d0b7/lib/python3.10/site-packages (from requests<3,>=2.24.0->ydata_profiling) (2.2.0)\n",
      "Requirement already satisfied: certifi>=2017.4.17 in /home/belhassen/miniconda3/envs/mlflow-efedaa08f400336cf501d86a97e4f66d68b3d0b7/lib/python3.10/site-packages (from requests<3,>=2.24.0->ydata_profiling) (2024.2.2)\n",
      "Requirement already satisfied: patsy>=0.5.4 in /home/belhassen/miniconda3/envs/mlflow-efedaa08f400336cf501d86a97e4f66d68b3d0b7/lib/python3.10/site-packages (from statsmodels<1,>=0.13.2->ydata_profiling) (0.5.6)\n",
      "Requirement already satisfied: six in /home/belhassen/miniconda3/envs/mlflow-efedaa08f400336cf501d86a97e4f66d68b3d0b7/lib/python3.10/site-packages (from patsy>=0.5.4->statsmodels<1,>=0.13.2->ydata_profiling) (1.16.0)\n",
      "Using cached ydata_profiling-4.6.4-py2.py3-none-any.whl (357 kB)\n",
      "Using cached dacite-1.8.1-py3-none-any.whl (14 kB)\n",
      "Using cached numba-0.58.1-cp310-cp310-manylinux2014_x86_64.manylinux_2_17_x86_64.whl (3.6 MB)\n",
      "Using cached numpy-1.25.2-cp310-cp310-manylinux_2_17_x86_64.manylinux2014_x86_64.whl (18.2 MB)\n",
      "Using cached scipy-1.11.4-cp310-cp310-manylinux_2_17_x86_64.manylinux2014_x86_64.whl (36.4 MB)\n",
      "Using cached typeguard-4.1.5-py3-none-any.whl (34 kB)\n",
      "Using cached wordcloud-1.9.3-cp310-cp310-manylinux_2_17_x86_64.manylinux2014_x86_64.whl (511 kB)\n",
      "Using cached llvmlite-0.41.1-cp310-cp310-manylinux_2_17_x86_64.manylinux2014_x86_64.whl (43.6 MB)\n",
      "Installing collected packages: typeguard, numpy, llvmlite, dacite, scipy, numba, visions, wordcloud, seaborn, ydata_profiling\n",
      "  Attempting uninstall: numpy\n",
      "    Found existing installation: numpy 1.26.3\n",
      "    Uninstalling numpy-1.26.3:\n",
      "      Successfully uninstalled numpy-1.26.3\n",
      "  Attempting uninstall: scipy\n",
      "    Found existing installation: scipy 1.12.0\n",
      "    Uninstalling scipy-1.12.0:\n",
      "      Successfully uninstalled scipy-1.12.0\n",
      "  Attempting uninstall: visions\n",
      "    Found existing installation: visions 0.7.1\n",
      "    Uninstalling visions-0.7.1:\n",
      "      Successfully uninstalled visions-0.7.1\n",
      "  Attempting uninstall: seaborn\n",
      "    Found existing installation: seaborn 0.13.2\n",
      "    Uninstalling seaborn-0.13.2:\n",
      "      Successfully uninstalled seaborn-0.13.2\n",
      "\u001b[31mERROR: pip's dependency resolver does not currently take into account all the packages that are installed. This behaviour is the source of the following dependency conflicts.\n",
      "pandas-profiling 3.0.0 requires tangled-up-in-unicode==0.1.0, but you have tangled-up-in-unicode 0.2.0 which is incompatible.\n",
      "pandas-profiling 3.0.0 requires visions[type_image_path]==0.7.1, but you have visions 0.7.5 which is incompatible.\u001b[0m\u001b[31m\n",
      "\u001b[0mSuccessfully installed dacite-1.8.1 llvmlite-0.41.1 numba-0.58.1 numpy-1.25.2 scipy-1.11.4 seaborn-0.12.2 typeguard-4.1.5 visions-0.7.5 wordcloud-1.9.3 ydata_profiling-4.6.4\n"
     ]
    }
   ],
   "source": [
    "!pip install ydata_profiling"
   ]
  },
  {
   "cell_type": "markdown",
   "id": "20b3331e-ebf8-4fc4-99b5-fe6396a90fe7",
   "metadata": {},
   "source": [
    "Import libraries"
   ]
  },
  {
   "cell_type": "code",
   "execution_count": 4,
   "id": "365d63c2-4179-4f32-acc2-daa6b1d0daec",
   "metadata": {},
   "outputs": [],
   "source": [
    "import wandb\n",
    "import pandas as pd\n",
    "import ydata_profiling"
   ]
  },
  {
   "cell_type": "markdown",
   "id": "8d4fb459-47ee-4b3f-baa1-86c5a35d5cb7",
   "metadata": {},
   "source": [
    "Fetch the artifact from W&B"
   ]
  },
  {
   "cell_type": "code",
   "execution_count": 5,
   "id": "258bf048-8cfe-40d2-80a6-9168e21e67d0",
   "metadata": {},
   "outputs": [
    {
     "name": "stderr",
     "output_type": "stream",
     "text": [
      "\u001b[34m\u001b[1mwandb\u001b[0m: Currently logged in as: \u001b[33mouerghieb\u001b[0m. Use \u001b[1m`wandb login --relogin`\u001b[0m to force relogin\n"
     ]
    },
    {
     "data": {
      "text/html": [
       "wandb version 0.16.2 is available!  To upgrade, please run:\n",
       " $ pip install wandb --upgrade"
      ],
      "text/plain": [
       "<IPython.core.display.HTML object>"
      ]
     },
     "metadata": {},
     "output_type": "display_data"
    },
    {
     "data": {
      "text/html": [
       "Tracking run with wandb version 0.16.0"
      ],
      "text/plain": [
       "<IPython.core.display.HTML object>"
      ]
     },
     "metadata": {},
     "output_type": "display_data"
    },
    {
     "data": {
      "text/html": [
       "Run data is saved locally in <code>/mnt/c/Users/b.ouerghi/build-ml-pipeline-for-short-term-rental-prices/src/eda/wandb/run-20240206_133421-1jt1cetx</code>"
      ],
      "text/plain": [
       "<IPython.core.display.HTML object>"
      ]
     },
     "metadata": {},
     "output_type": "display_data"
    },
    {
     "data": {
      "text/html": [
       "Syncing run <strong><a href='https://wandb.ai/ouerghieb/nyc_airbnb/runs/1jt1cetx' target=\"_blank\">peachy-forest-3</a></strong> to <a href='https://wandb.ai/ouerghieb/nyc_airbnb' target=\"_blank\">Weights & Biases</a> (<a href='https://wandb.me/run' target=\"_blank\">docs</a>)<br/>"
      ],
      "text/plain": [
       "<IPython.core.display.HTML object>"
      ]
     },
     "metadata": {},
     "output_type": "display_data"
    },
    {
     "data": {
      "text/html": [
       " View project at <a href='https://wandb.ai/ouerghieb/nyc_airbnb' target=\"_blank\">https://wandb.ai/ouerghieb/nyc_airbnb</a>"
      ],
      "text/plain": [
       "<IPython.core.display.HTML object>"
      ]
     },
     "metadata": {},
     "output_type": "display_data"
    },
    {
     "data": {
      "text/html": [
       " View run at <a href='https://wandb.ai/ouerghieb/nyc_airbnb/runs/1jt1cetx' target=\"_blank\">https://wandb.ai/ouerghieb/nyc_airbnb/runs/1jt1cetx</a>"
      ],
      "text/plain": [
       "<IPython.core.display.HTML object>"
      ]
     },
     "metadata": {},
     "output_type": "display_data"
    }
   ],
   "source": [
    "run = wandb.init(project=\"nyc_airbnb\", group=\"eda\", save_code=True)\n",
    "local_path = wandb.use_artifact(\"sample.csv:latest\").file()"
   ]
  },
  {
   "cell_type": "markdown",
   "id": "817e4868-702f-489c-ae6e-9613f8f74c00",
   "metadata": {},
   "source": [
    "Read the fetched file"
   ]
  },
  {
   "cell_type": "code",
   "execution_count": 6,
   "id": "ceaf3d3d-8cf3-46ea-a0c8-477b168bc74f",
   "metadata": {},
   "outputs": [],
   "source": [
    "df = pd.read_csv(local_path)"
   ]
  },
  {
   "cell_type": "markdown",
   "id": "2be81347-8c2b-4377-b97b-0af944151571",
   "metadata": {},
   "source": [
    "Apply Profiling on the dataframe"
   ]
  },
  {
   "cell_type": "code",
   "execution_count": 7,
   "id": "528fdb70-9a6f-4166-a4ef-4c9dca85b300",
   "metadata": {},
   "outputs": [
    {
     "data": {
      "application/vnd.jupyter.widget-view+json": {
       "model_id": "319595281af44b01ae6ac0b5c7d4684e",
       "version_major": 2,
       "version_minor": 0
      },
      "text/plain": [
       "Summarize dataset:   0%|          | 0/5 [00:00<?, ?it/s]"
      ]
     },
     "metadata": {},
     "output_type": "display_data"
    },
    {
     "name": "stderr",
     "output_type": "stream",
     "text": [
      "/home/belhassen/miniconda3/envs/mlflow-efedaa08f400336cf501d86a97e4f66d68b3d0b7/lib/python3.10/site-packages/ydata_profiling/model/typeset.py:125: FutureWarning: is_categorical_dtype is deprecated and will be removed in a future version. Use isinstance(dtype, CategoricalDtype) instead\n",
      "  not pdt.is_categorical_dtype(series)\n",
      "/home/belhassen/miniconda3/envs/mlflow-efedaa08f400336cf501d86a97e4f66d68b3d0b7/lib/python3.10/site-packages/ydata_profiling/model/typeset.py:208: FutureWarning: is_categorical_dtype is deprecated and will be removed in a future version. Use isinstance(dtype, CategoricalDtype) instead\n",
      "  is_valid_dtype = pdt.is_categorical_dtype(series) and not pdt.is_bool_dtype(\n",
      "/home/belhassen/miniconda3/envs/mlflow-efedaa08f400336cf501d86a97e4f66d68b3d0b7/lib/python3.10/site-packages/ydata_profiling/model/typeset.py:125: FutureWarning: is_categorical_dtype is deprecated and will be removed in a future version. Use isinstance(dtype, CategoricalDtype) instead\n",
      "  not pdt.is_categorical_dtype(series)\n",
      "/home/belhassen/miniconda3/envs/mlflow-efedaa08f400336cf501d86a97e4f66d68b3d0b7/lib/python3.10/site-packages/ydata_profiling/model/typeset.py:125: FutureWarning: is_categorical_dtype is deprecated and will be removed in a future version. Use isinstance(dtype, CategoricalDtype) instead\n",
      "  not pdt.is_categorical_dtype(series)\n",
      "/home/belhassen/miniconda3/envs/mlflow-efedaa08f400336cf501d86a97e4f66d68b3d0b7/lib/python3.10/site-packages/ydata_profiling/model/typeset.py:208: FutureWarning: is_categorical_dtype is deprecated and will be removed in a future version. Use isinstance(dtype, CategoricalDtype) instead\n",
      "  is_valid_dtype = pdt.is_categorical_dtype(series) and not pdt.is_bool_dtype(\n",
      "/home/belhassen/miniconda3/envs/mlflow-efedaa08f400336cf501d86a97e4f66d68b3d0b7/lib/python3.10/site-packages/ydata_profiling/model/typeset.py:125: FutureWarning: is_categorical_dtype is deprecated and will be removed in a future version. Use isinstance(dtype, CategoricalDtype) instead\n",
      "  not pdt.is_categorical_dtype(series)\n",
      "/home/belhassen/miniconda3/envs/mlflow-efedaa08f400336cf501d86a97e4f66d68b3d0b7/lib/python3.10/site-packages/ydata_profiling/model/typeset.py:125: FutureWarning: is_categorical_dtype is deprecated and will be removed in a future version. Use isinstance(dtype, CategoricalDtype) instead\n",
      "  not pdt.is_categorical_dtype(series)\n",
      "/home/belhassen/miniconda3/envs/mlflow-efedaa08f400336cf501d86a97e4f66d68b3d0b7/lib/python3.10/site-packages/ydata_profiling/model/typeset.py:208: FutureWarning: is_categorical_dtype is deprecated and will be removed in a future version. Use isinstance(dtype, CategoricalDtype) instead\n",
      "  is_valid_dtype = pdt.is_categorical_dtype(series) and not pdt.is_bool_dtype(\n",
      "/home/belhassen/miniconda3/envs/mlflow-efedaa08f400336cf501d86a97e4f66d68b3d0b7/lib/python3.10/site-packages/ydata_profiling/model/typeset.py:125: FutureWarning: is_categorical_dtype is deprecated and will be removed in a future version. Use isinstance(dtype, CategoricalDtype) instead\n",
      "  not pdt.is_categorical_dtype(series)\n",
      "/home/belhassen/miniconda3/envs/mlflow-efedaa08f400336cf501d86a97e4f66d68b3d0b7/lib/python3.10/site-packages/ydata_profiling/model/typeset_relations.py:34: FutureWarning: is_categorical_dtype is deprecated and will be removed in a future version. Use isinstance(dtype, CategoricalDtype) instead\n",
      "  if pdt.is_categorical_dtype(series):\n",
      "/home/belhassen/miniconda3/envs/mlflow-efedaa08f400336cf501d86a97e4f66d68b3d0b7/lib/python3.10/site-packages/ydata_profiling/model/typeset_relations.py:34: FutureWarning: is_categorical_dtype is deprecated and will be removed in a future version. Use isinstance(dtype, CategoricalDtype) instead\n",
      "  if pdt.is_categorical_dtype(series):\n",
      "/home/belhassen/miniconda3/envs/mlflow-efedaa08f400336cf501d86a97e4f66d68b3d0b7/lib/python3.10/site-packages/ydata_profiling/model/typeset.py:125: FutureWarning: is_categorical_dtype is deprecated and will be removed in a future version. Use isinstance(dtype, CategoricalDtype) instead\n",
      "  not pdt.is_categorical_dtype(series)\n",
      "/home/belhassen/miniconda3/envs/mlflow-efedaa08f400336cf501d86a97e4f66d68b3d0b7/lib/python3.10/site-packages/ydata_profiling/model/typeset.py:208: FutureWarning: is_categorical_dtype is deprecated and will be removed in a future version. Use isinstance(dtype, CategoricalDtype) instead\n",
      "  is_valid_dtype = pdt.is_categorical_dtype(series) and not pdt.is_bool_dtype(\n",
      "/home/belhassen/miniconda3/envs/mlflow-efedaa08f400336cf501d86a97e4f66d68b3d0b7/lib/python3.10/site-packages/ydata_profiling/model/typeset_relations.py:34: FutureWarning: is_categorical_dtype is deprecated and will be removed in a future version. Use isinstance(dtype, CategoricalDtype) instead\n",
      "  if pdt.is_categorical_dtype(series):\n",
      "/home/belhassen/miniconda3/envs/mlflow-efedaa08f400336cf501d86a97e4f66d68b3d0b7/lib/python3.10/site-packages/ydata_profiling/model/typeset.py:125: FutureWarning: is_categorical_dtype is deprecated and will be removed in a future version. Use isinstance(dtype, CategoricalDtype) instead\n",
      "  not pdt.is_categorical_dtype(series)\n",
      "/home/belhassen/miniconda3/envs/mlflow-efedaa08f400336cf501d86a97e4f66d68b3d0b7/lib/python3.10/site-packages/ydata_profiling/model/typeset.py:125: FutureWarning: is_categorical_dtype is deprecated and will be removed in a future version. Use isinstance(dtype, CategoricalDtype) instead\n",
      "  not pdt.is_categorical_dtype(series)\n",
      "/home/belhassen/miniconda3/envs/mlflow-efedaa08f400336cf501d86a97e4f66d68b3d0b7/lib/python3.10/site-packages/ydata_profiling/model/typeset.py:208: FutureWarning: is_categorical_dtype is deprecated and will be removed in a future version. Use isinstance(dtype, CategoricalDtype) instead\n",
      "  is_valid_dtype = pdt.is_categorical_dtype(series) and not pdt.is_bool_dtype(\n",
      "/home/belhassen/miniconda3/envs/mlflow-efedaa08f400336cf501d86a97e4f66d68b3d0b7/lib/python3.10/site-packages/ydata_profiling/model/typeset.py:125: FutureWarning: is_categorical_dtype is deprecated and will be removed in a future version. Use isinstance(dtype, CategoricalDtype) instead\n",
      "  not pdt.is_categorical_dtype(series)\n",
      "/home/belhassen/miniconda3/envs/mlflow-efedaa08f400336cf501d86a97e4f66d68b3d0b7/lib/python3.10/site-packages/ydata_profiling/model/typeset.py:208: FutureWarning: is_categorical_dtype is deprecated and will be removed in a future version. Use isinstance(dtype, CategoricalDtype) instead\n",
      "  is_valid_dtype = pdt.is_categorical_dtype(series) and not pdt.is_bool_dtype(\n",
      "/home/belhassen/miniconda3/envs/mlflow-efedaa08f400336cf501d86a97e4f66d68b3d0b7/lib/python3.10/site-packages/ydata_profiling/model/typeset_relations.py:34: FutureWarning: is_categorical_dtype is deprecated and will be removed in a future version. Use isinstance(dtype, CategoricalDtype) instead\n",
      "  if pdt.is_categorical_dtype(series):\n",
      "/home/belhassen/miniconda3/envs/mlflow-efedaa08f400336cf501d86a97e4f66d68b3d0b7/lib/python3.10/site-packages/ydata_profiling/model/typeset_relations.py:34: FutureWarning: is_categorical_dtype is deprecated and will be removed in a future version. Use isinstance(dtype, CategoricalDtype) instead\n",
      "  if pdt.is_categorical_dtype(series):\n",
      "/home/belhassen/miniconda3/envs/mlflow-efedaa08f400336cf501d86a97e4f66d68b3d0b7/lib/python3.10/site-packages/ydata_profiling/model/typeset.py:208: FutureWarning: is_categorical_dtype is deprecated and will be removed in a future version. Use isinstance(dtype, CategoricalDtype) instead\n",
      "  is_valid_dtype = pdt.is_categorical_dtype(series) and not pdt.is_bool_dtype(\n",
      "/home/belhassen/miniconda3/envs/mlflow-efedaa08f400336cf501d86a97e4f66d68b3d0b7/lib/python3.10/site-packages/ydata_profiling/model/typeset_relations.py:34: FutureWarning: is_categorical_dtype is deprecated and will be removed in a future version. Use isinstance(dtype, CategoricalDtype) instead\n",
      "  if pdt.is_categorical_dtype(series):\n",
      "/home/belhassen/miniconda3/envs/mlflow-efedaa08f400336cf501d86a97e4f66d68b3d0b7/lib/python3.10/site-packages/ydata_profiling/model/typeset.py:125: FutureWarning: is_categorical_dtype is deprecated and will be removed in a future version. Use isinstance(dtype, CategoricalDtype) instead\n",
      "  not pdt.is_categorical_dtype(series)\n",
      "/home/belhassen/miniconda3/envs/mlflow-efedaa08f400336cf501d86a97e4f66d68b3d0b7/lib/python3.10/site-packages/ydata_profiling/model/typeset_relations.py:34: FutureWarning: is_categorical_dtype is deprecated and will be removed in a future version. Use isinstance(dtype, CategoricalDtype) instead\n",
      "  if pdt.is_categorical_dtype(series):\n",
      "/home/belhassen/miniconda3/envs/mlflow-efedaa08f400336cf501d86a97e4f66d68b3d0b7/lib/python3.10/site-packages/ydata_profiling/model/typeset.py:125: FutureWarning: is_categorical_dtype is deprecated and will be removed in a future version. Use isinstance(dtype, CategoricalDtype) instead\n",
      "  not pdt.is_categorical_dtype(series)\n",
      "/home/belhassen/miniconda3/envs/mlflow-efedaa08f400336cf501d86a97e4f66d68b3d0b7/lib/python3.10/site-packages/ydata_profiling/model/typeset.py:208: FutureWarning: is_categorical_dtype is deprecated and will be removed in a future version. Use isinstance(dtype, CategoricalDtype) instead\n",
      "  is_valid_dtype = pdt.is_categorical_dtype(series) and not pdt.is_bool_dtype(\n",
      "/home/belhassen/miniconda3/envs/mlflow-efedaa08f400336cf501d86a97e4f66d68b3d0b7/lib/python3.10/site-packages/ydata_profiling/model/typeset.py:125: FutureWarning: is_categorical_dtype is deprecated and will be removed in a future version. Use isinstance(dtype, CategoricalDtype) instead\n",
      "  not pdt.is_categorical_dtype(series)\n",
      "/home/belhassen/miniconda3/envs/mlflow-efedaa08f400336cf501d86a97e4f66d68b3d0b7/lib/python3.10/site-packages/ydata_profiling/model/typeset_relations.py:34: FutureWarning: is_categorical_dtype is deprecated and will be removed in a future version. Use isinstance(dtype, CategoricalDtype) instead\n",
      "  if pdt.is_categorical_dtype(series):\n",
      "/home/belhassen/miniconda3/envs/mlflow-efedaa08f400336cf501d86a97e4f66d68b3d0b7/lib/python3.10/site-packages/ydata_profiling/model/typeset_relations.py:34: FutureWarning: is_categorical_dtype is deprecated and will be removed in a future version. Use isinstance(dtype, CategoricalDtype) instead\n",
      "  if pdt.is_categorical_dtype(series):\n",
      "/home/belhassen/miniconda3/envs/mlflow-efedaa08f400336cf501d86a97e4f66d68b3d0b7/lib/python3.10/site-packages/ydata_profiling/model/typeset.py:125: FutureWarning: is_categorical_dtype is deprecated and will be removed in a future version. Use isinstance(dtype, CategoricalDtype) instead\n",
      "  not pdt.is_categorical_dtype(series)\n",
      "/home/belhassen/miniconda3/envs/mlflow-efedaa08f400336cf501d86a97e4f66d68b3d0b7/lib/python3.10/site-packages/ydata_profiling/model/typeset_relations.py:34: FutureWarning: is_categorical_dtype is deprecated and will be removed in a future version. Use isinstance(dtype, CategoricalDtype) instead\n",
      "  if pdt.is_categorical_dtype(series):\n",
      "/home/belhassen/miniconda3/envs/mlflow-efedaa08f400336cf501d86a97e4f66d68b3d0b7/lib/python3.10/site-packages/ydata_profiling/model/correlations.py:66: UserWarning: There was an attempt to calculate the auto correlation, but this failed.\n",
      "To hide this warning, disable the calculation\n",
      "(using `df.profile_report(correlations={\"auto\": {\"calculate\": False}})`\n",
      "If this is problematic for your use case, please report this as an issue:\n",
      "https://github.com/ydataai/ydata-profiling/issues\n",
      "(include the error message: 'could not convert string to float: 'Queens'')\n",
      "  warnings.warn(\n",
      "/home/belhassen/miniconda3/envs/mlflow-efedaa08f400336cf501d86a97e4f66d68b3d0b7/lib/python3.10/site-packages/seaborn/matrix.py:260: FutureWarning: Format strings passed to MaskedConstant are ignored, but in future may error or produce different behavior\n",
      "  annotation = (\"{:\" + self.fmt + \"}\").format(val)\n",
      "/home/belhassen/miniconda3/envs/mlflow-efedaa08f400336cf501d86a97e4f66d68b3d0b7/lib/python3.10/site-packages/ydata_profiling/model/missing.py:78: UserWarning: There was an attempt to generate the Heatmap missing values diagrams, but this failed.\n",
      "To hide this warning, disable the calculation\n",
      "(using `df.profile_report(missing_diagrams={\"Heatmap\": False}`)\n",
      "If this is problematic for your use case, please report this as an issue:\n",
      "https://github.com/ydataai/ydata-profiling/issues\n",
      "(include the error message: 'could not convert string to float: '--'')\n",
      "  warnings.warn(\n"
     ]
    },
    {
     "data": {
      "application/vnd.jupyter.widget-view+json": {
       "model_id": "2613c396d60248af8602b09a0eb209ef",
       "version_major": 2,
       "version_minor": 0
      },
      "text/plain": [
       "Generate report structure:   0%|          | 0/1 [00:00<?, ?it/s]"
      ]
     },
     "metadata": {},
     "output_type": "display_data"
    },
    {
     "data": {
      "application/vnd.jupyter.widget-view+json": {
       "model_id": "c08633f4022a46e5994b896496509c0a",
       "version_major": 2,
       "version_minor": 0
      },
      "text/plain": [
       "Render widgets:   0%|          | 0/1 [00:00<?, ?it/s]"
      ]
     },
     "metadata": {},
     "output_type": "display_data"
    },
    {
     "name": "stderr",
     "output_type": "stream",
     "text": [
      "IOPub message rate exceeded.\n",
      "The Jupyter server will temporarily stop sending output\n",
      "to the client in order to avoid crashing it.\n",
      "To change this limit, set the config variable\n",
      "`--ServerApp.iopub_msg_rate_limit`.\n",
      "\n",
      "Current values:\n",
      "ServerApp.iopub_msg_rate_limit=1000.0 (msgs/sec)\n",
      "ServerApp.rate_limit_window=3.0 (secs)\n",
      "\n",
      "IOPub message rate exceeded.\n",
      "The Jupyter server will temporarily stop sending output\n",
      "to the client in order to avoid crashing it.\n",
      "To change this limit, set the config variable\n",
      "`--ServerApp.iopub_msg_rate_limit`.\n",
      "\n",
      "Current values:\n",
      "ServerApp.iopub_msg_rate_limit=1000.0 (msgs/sec)\n",
      "ServerApp.rate_limit_window=3.0 (secs)\n",
      "\n"
     ]
    }
   ],
   "source": [
    "profile = ydata_profiling.ProfileReport(df)\n",
    "profile.to_widgets()"
   ]
  },
  {
   "cell_type": "markdown",
   "id": "5354e68c-5506-4963-8c59-3f0c4793ac33",
   "metadata": {},
   "source": [
    "Drop Outliers"
   ]
  },
  {
   "cell_type": "code",
   "execution_count": 8,
   "id": "6ef0b13c-7b45-452f-9977-7d2d2632f7d1",
   "metadata": {},
   "outputs": [],
   "source": [
    "min_price = 10\n",
    "max_price = 350\n",
    "idx = df['price'].between(min_price, max_price)\n",
    "df = df[idx].copy()"
   ]
  },
  {
   "cell_type": "markdown",
   "id": "a4c10a98-b4e4-4931-9520-4997e32256c8",
   "metadata": {},
   "source": [
    "Convert the column last_review to datetime"
   ]
  },
  {
   "cell_type": "code",
   "execution_count": 9,
   "id": "f91444d2-da21-4828-8dad-e8d9fb852d08",
   "metadata": {},
   "outputs": [],
   "source": [
    "df['last_review'] = pd.to_datetime(df['last_review'])"
   ]
  },
  {
   "cell_type": "markdown",
   "id": "15683395-54d6-4d93-bbb6-07137b28a34d",
   "metadata": {},
   "source": [
    "Check the previous changes"
   ]
  },
  {
   "cell_type": "code",
   "execution_count": 10,
   "id": "ceec6bbb-2f65-4e0e-a81d-21a8b1a8c850",
   "metadata": {},
   "outputs": [
    {
     "name": "stdout",
     "output_type": "stream",
     "text": [
      "<class 'pandas.core.frame.DataFrame'>\n",
      "Index: 19001 entries, 0 to 19999\n",
      "Data columns (total 16 columns):\n",
      " #   Column                          Non-Null Count  Dtype         \n",
      "---  ------                          --------------  -----         \n",
      " 0   id                              19001 non-null  int64         \n",
      " 1   name                            18994 non-null  object        \n",
      " 2   host_id                         19001 non-null  int64         \n",
      " 3   host_name                       18993 non-null  object        \n",
      " 4   neighbourhood_group             19001 non-null  object        \n",
      " 5   neighbourhood                   19001 non-null  object        \n",
      " 6   latitude                        19001 non-null  float64       \n",
      " 7   longitude                       19001 non-null  float64       \n",
      " 8   room_type                       19001 non-null  object        \n",
      " 9   price                           19001 non-null  int64         \n",
      " 10  minimum_nights                  19001 non-null  int64         \n",
      " 11  number_of_reviews               19001 non-null  int64         \n",
      " 12  last_review                     15243 non-null  datetime64[ns]\n",
      " 13  reviews_per_month               15243 non-null  float64       \n",
      " 14  calculated_host_listings_count  19001 non-null  int64         \n",
      " 15  availability_365                19001 non-null  int64         \n",
      "dtypes: datetime64[ns](1), float64(3), int64(7), object(5)\n",
      "memory usage: 2.5+ MB\n"
     ]
    }
   ],
   "source": [
    "df.info()"
   ]
  },
  {
   "cell_type": "markdown",
   "id": "6ae5f676-d2dc-4480-b328-46ea8eae82e5",
   "metadata": {},
   "source": [
    "Terminate the run"
   ]
  },
  {
   "cell_type": "code",
   "execution_count": 12,
   "id": "6f866470-46b2-4428-b8de-cfdc458a2df4",
   "metadata": {},
   "outputs": [
    {
     "data": {
      "application/vnd.jupyter.widget-view+json": {
       "model_id": "",
       "version_major": 2,
       "version_minor": 0
      },
      "text/plain": [
       "VBox(children=(Label(value='0.125 MB of 0.125 MB uploaded (0.031 MB deduped)\\r'), FloatProgress(value=1.0, max…"
      ]
     },
     "metadata": {},
     "output_type": "display_data"
    },
    {
     "data": {
      "text/html": [
       " View run <strong style=\"color:#cdcd00\">peachy-forest-3</strong> at: <a href='https://wandb.ai/ouerghieb/nyc_airbnb/runs/1jt1cetx' target=\"_blank\">https://wandb.ai/ouerghieb/nyc_airbnb/runs/1jt1cetx</a><br/> View job at <a href='https://wandb.ai/ouerghieb/nyc_airbnb/jobs/QXJ0aWZhY3RDb2xsZWN0aW9uOjEzNzU0NzEwMA==/version_details/v0' target=\"_blank\">https://wandb.ai/ouerghieb/nyc_airbnb/jobs/QXJ0aWZhY3RDb2xsZWN0aW9uOjEzNzU0NzEwMA==/version_details/v0</a><br/>Synced 7 W&B file(s), 0 media file(s), 8 artifact file(s) and 1 other file(s)"
      ],
      "text/plain": [
       "<IPython.core.display.HTML object>"
      ]
     },
     "metadata": {},
     "output_type": "display_data"
    },
    {
     "data": {
      "text/html": [
       "Find logs at: <code>./wandb/run-20240206_133421-1jt1cetx/logs</code>"
      ],
      "text/plain": [
       "<IPython.core.display.HTML object>"
      ]
     },
     "metadata": {},
     "output_type": "display_data"
    }
   ],
   "source": [
    "run.finish()"
   ]
  },
  {
   "cell_type": "code",
   "execution_count": null,
   "id": "2dd22b05-e479-4aeb-8139-9b9e9f1378c9",
   "metadata": {},
   "outputs": [],
   "source": []
  }
 ],
 "metadata": {
  "kernelspec": {
   "display_name": "Python 3 (ipykernel)",
   "language": "python",
   "name": "python3"
  },
  "language_info": {
   "codemirror_mode": {
    "name": "ipython",
    "version": 3
   },
   "file_extension": ".py",
   "mimetype": "text/x-python",
   "name": "python",
   "nbconvert_exporter": "python",
   "pygments_lexer": "ipython3",
   "version": "3.10.13"
  }
 },
 "nbformat": 4,
 "nbformat_minor": 5
}
